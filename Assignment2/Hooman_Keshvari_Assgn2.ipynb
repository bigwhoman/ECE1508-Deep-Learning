{
 "cells": [
  {
   "cell_type": "markdown",
   "id": "93ec5359",
   "metadata": {},
   "source": [
    "# Assignment 2: Feedforward Neural Networks"
   ]
  },
  {
   "cell_type": "markdown",
   "id": "b3433711",
   "metadata": {},
   "source": [
    "## Programming Question 1: Implementing Deep FNN\n",
    "Through this assignment you learn how to use `torch.nn` module of torch to implement a neural network in only few lines of code.\n",
    "\n",
    "We first import all required packages."
   ]
  },
  {
   "cell_type": "code",
   "execution_count": 24,
   "id": "6521ecf6",
   "metadata": {},
   "outputs": [],
   "source": [
    "# We import torch and the nn module\n",
    "import torch\n",
    "import torch.nn as nn\n",
    "\n",
    "# We import NumPy and tqdm\n",
    "import numpy as np\n",
    "from tqdm import tqdm\n",
    "\n",
    "# We need few items from Scikit-Learn\n",
    "import sklearn.datasets as DataSets\n",
    "from sklearn.model_selection import train_test_split\n",
    "\n",
    "# Also we need to plot few curves\n",
    "import matplotlib.pyplot as plt"
   ]
  },
  {
   "cell_type": "markdown",
   "id": "1e517ef1",
   "metadata": {},
   "source": [
    "### Data Splitting: Make Training Mini-Batches"
   ]
  },
  {
   "cell_type": "code",
   "execution_count": 129,
   "id": "b32adbcc",
   "metadata": {},
   "outputs": [
    {
     "name": "stdout",
     "output_type": "stream",
     "text": [
      "Dimension of X0 : (10000, 20) - Dimension of v0 : (10000, 1)\n",
      "[ 2.71294902  0.36835788 -3.80071947  1.01325651  2.21353836 -1.03984687\n",
      "  0.15280907 -1.22478592 -1.34564992 -2.13232466 -3.79654552 -0.83454172\n",
      " -4.22074562 -0.15507548 -0.90781521  1.00672718 -0.15219737  2.51314894\n",
      "  1.77917975  3.08728753] [1]\n",
      "<class 'numpy.ndarray'> <class 'numpy.ndarray'>\n"
     ]
    }
   ],
   "source": [
    "dataset = DataSets.make_classification(n_samples = 10000\n",
    "                                       , n_features = 20\n",
    "                                       , n_informative=5\n",
    "                                       , n_redundant=15\n",
    "                                       , random_state=1)\n",
    "X, v = dataset\n",
    "v = v.reshape(-1,1)\n",
    "print(f\"Dimension of X0 : {X.shape} - Dimension of v0 : {v.shape}\")\n",
    "\n",
    "print(X[0], v[0])\n",
    "print(type(X),type(v))"
   ]
  },
  {
   "cell_type": "markdown",
   "id": "2d2a6c00",
   "metadata": {},
   "source": [
    "Below you can implement the function"
   ]
  },
  {
   "cell_type": "code",
   "execution_count": 130,
   "id": "6168c18e",
   "metadata": {},
   "outputs": [
    {
     "name": "stdout",
     "output_type": "stream",
     "text": [
      "tensor([[ 0.1273, -0.4994, -0.5162,  2.6351,  3.9008,  2.0267,  2.9875,  0.6604,\n",
      "         -3.8376, -0.0945, -3.7732, -3.4162, -0.5625, -0.0386, -1.1781, -1.9676,\n",
      "         -2.0616,  1.6510,  0.7992,  1.4768],\n",
      "        [ 1.8100, -2.0745,  1.2787,  1.3398,  6.0882,  1.1478,  3.0877,  0.3743,\n",
      "         -1.9764,  1.4299, -0.1262, -2.1677,  0.0457,  2.2152,  2.3027, -2.4004,\n",
      "         -1.0431,  1.3116,  2.1924, -2.0795],\n",
      "        [ 2.7129,  0.3684, -3.8007,  1.0133,  2.2135, -1.0398,  0.1528, -1.2248,\n",
      "         -1.3456, -2.1323, -3.7965, -0.8345, -4.2207, -0.1551, -0.9078,  1.0067,\n",
      "         -0.1522,  2.5131,  1.7792,  3.0873]]) \n",
      "\n",
      " tensor([[1.],\n",
      "        [0.],\n",
      "        [1.]]) \n",
      "\n",
      " tensor([0, 2])\n"
     ]
    }
   ],
   "source": [
    "def data_splitter(X, v, batch_size, train_size):\n",
    "    '''\n",
    "    X is list of data-points\n",
    "    v is list of labels\n",
    "    train_size is the fraction of data-points used for training\n",
    "    '''\n",
    "    X_train, X_test, v_train, v_test = train_test_split(X, v\n",
    "        , train_size= train_size\n",
    "        , shuffle = True\n",
    "        )\n",
    "    X_train = torch.tensor(X_train,dtype=torch.float32)\n",
    "    v_train = torch.tensor(v_train,dtype=torch.float32).reshape(-1,1)\n",
    "    X_test = torch.tensor(X_test, dtype=torch.float32)\n",
    "    v_test = torch.tensor(v_test, dtype=torch.float32).reshape(-1,1)\n",
    "    batch_indx = torch.arange(0,len(X_train), batch_size)\n",
    "    return X_train, v_train, X_test, v_test, batch_indx\n",
    "\n",
    "# We get this to evaluate our outputs. 4 samples with train size 80%\n",
    "X_train, v_train, X_test, v_test, batch_indx = data_splitter(X=X[:4], v=v[:4], batch_size=2, train_size=0.8)\n",
    "print(X_train, \"\\n\\n\", v_train, \"\\n\\n\",batch_indx)"
   ]
  },
  {
   "cell_type": "markdown",
   "id": "45c87e1d",
   "metadata": {},
   "source": [
    "### Basic Classes\n",
    "\n",
    "For this task you can use `nn.Layer()`. You mainly need to complete the following `class`."
   ]
  },
  {
   "cell_type": "code",
   "execution_count": 131,
   "id": "ceba5e02",
   "metadata": {},
   "outputs": [
    {
     "name": "stdout",
     "output_type": "stream",
     "text": [
      "tensor([0.5448], grad_fn=<SigmoidBackward0>) tensor([1.])\n"
     ]
    }
   ],
   "source": [
    "class myClassifier(nn.Module):\n",
    "    def __init__(self):\n",
    "        super().__init__()\n",
    "\n",
    "\n",
    "        self.layer1 = nn.Linear(in_features=20, out_features=64)\n",
    "        self.active1 = nn.ReLU()\n",
    "\n",
    "        self.layer2 = nn.Linear(in_features=64, out_features=32)\n",
    "        self.active2 = nn.ReLU()\n",
    "\n",
    "        self.output = nn.Linear(in_features=32, out_features=1)\n",
    "        self.sigmoid = nn.Sigmoid()\n",
    "        \n",
    "    def forward(self, x):\n",
    "        x = self.active1(self.layer1(x))\n",
    "        x = self.active2(self.layer2(x))\n",
    "        x = self.sigmoid(self.output(x))\n",
    "        return x\n",
    "    \n",
    "model = myClassifier()\n",
    "print(model.forward(X_train[0]), v_train[0])"
   ]
  },
  {
   "cell_type": "markdown",
   "id": "67dc167c",
   "metadata": {},
   "source": [
    "### Backpropagation\n",
    "We now learn how we can use the autograd of PyTorch to implement backpropagation. Simply complete the following code and run it to see how autograd works."
   ]
  },
  {
   "cell_type": "code",
   "execution_count": 132,
   "id": "453c2fb1",
   "metadata": {},
   "outputs": [
    {
     "name": "stdout",
     "output_type": "stream",
     "text": [
      "None\n"
     ]
    }
   ],
   "source": [
    "# first, instantiate the model \n",
    "myModel = myClassifier()\n",
    "\n",
    "# now, define the loss\n",
    "loss_fn = nn.BCELoss()\n",
    "\n",
    "# split the dataset via function data_splitter()\n",
    "X_train, v_train, X_test, v_test, batch_indx = data_splitter(X=X, v=v, batch_size=len(X), train_size=0.8)\n",
    "\n",
    "# take a sample point from training dataset\n",
    "x, v =  (X_train[0], v_train[0])\n",
    "\n",
    "# forward pass\n",
    "y = myModel.forward(x)\n",
    "Loss = loss_fn(y, v)\n",
    "\n",
    "print(myModel.output.bias.grad)\n",
    "\n",
    "# backward pass\n",
    "Loss.backward()"
   ]
  },
  {
   "cell_type": "markdown",
   "id": "dd464b52",
   "metadata": {},
   "source": [
    "We can now access the computed gradient of the loss with respect to the output bias using the following code."
   ]
  },
  {
   "cell_type": "code",
   "execution_count": 133,
   "id": "8470a2ed",
   "metadata": {},
   "outputs": [
    {
     "data": {
      "text/plain": [
       "tensor([-0.5181])"
      ]
     },
     "execution_count": 133,
     "metadata": {},
     "output_type": "execute_result"
    }
   ],
   "source": [
    "myModel.output.bias.grad"
   ]
  },
  {
   "cell_type": "markdown",
   "id": "d243b963",
   "metadata": {},
   "source": [
    "### Optimizer\n",
    "We can further define the optimizer for our model as follows:"
   ]
  },
  {
   "cell_type": "code",
   "execution_count": 134,
   "id": "1f6f39e3",
   "metadata": {},
   "outputs": [],
   "source": [
    "# first, instantiate the model \n",
    "myModel = myClassifier()\n",
    "\n",
    "\n",
    "# now define the optimizer\n",
    "optimizer = torch.optim.Adam(# complete <pass the model parameters>\n",
    "                          myModel.parameters()\n",
    "                        , lr=0.0001 # this specifies the learning rate\n",
    "                        )"
   ]
  },
  {
   "cell_type": "markdown",
   "id": "83bce652",
   "metadata": {},
   "source": [
    "### Implementing Training and Test Loop\n",
    "Now that we have all the components, we can simply implement the training loop. Complete the following code to get the training done."
   ]
  },
  {
   "cell_type": "code",
   "execution_count": null,
   "id": "58f89538",
   "metadata": {},
   "outputs": [],
   "source": [
    "def training_loop(model,X,v):\n",
    "    # define the loss and optimizer\n",
    "    loss_fn = nn.BCELoss() # binary cross-entropy\n",
    "    optimizer = torch.optim.Adam(# complete <pass the model parameters>\n",
    "                          model.parameters()\n",
    "                        , lr=0.0001 # this specifies the learning rate\n",
    "                        )\n",
    "\n",
    "    # set the training parameters\n",
    "    n_epochs = 500   # number of epochs\n",
    "    batch_size = 40  # batch size\n",
    "\n",
    "    # specify training and test datasets and the batch indices\n",
    "    # use data_splitter() and X, v are generated by Scikit-Learn\n",
    "    X_train, v_train, X_test, v_test, batch_indx = data_splitter(X=X, v=v, batch_size=batch_size, train_size=0.8)\n",
    "\n",
    "    # make empty list to save training and test risk\n",
    "    train_risk = []\n",
    "    test_risk = []\n",
    "\n",
    "    # training loop\n",
    "\n",
    "    # we visualize the training progress via tqdm\n",
    "    with tqdm(range(n_epochs), unit=\"epoch\") as epoch_bar:\n",
    "        epoch_bar.set_description(\"training loop\")\n",
    "        for epoch in epoch_bar:\n",
    "\n",
    "            # tell pytorch that you start training\n",
    "            model.train()\n",
    "\n",
    "            for indx in batch_indx:\n",
    "                # take a batch of samples\n",
    "                X_batch = X_train[indx:indx+batch_size]\n",
    "                v_batch = v_train[indx:indx+batch_size]\n",
    "\n",
    "                # pass forward the mini-batch\n",
    "                y_batch = model.forward(X_batch)\n",
    "\n",
    "                # compute the loss\n",
    "                loss = loss_fn(y_batch, v_batch)\n",
    "\n",
    "                # backward pass\n",
    "                # first make gradient zero\n",
    "                optimizer.zero_grad()\n",
    "                # then, compute the gradient of loss\n",
    "                # complete\n",
    "                loss.backward()\n",
    "                # now update weights by one optimization step\n",
    "                optimizer.step()\n",
    "\n",
    "            # we are done with one epoch\n",
    "            # we now evaluate training and test risks\n",
    "            # first we tell pytorch we are doing evaluation\n",
    "            model.eval()\n",
    "\n",
    "            # now we evaluate the training risk\n",
    "            y_train = model.forward(X_train)\n",
    "            CE_train = loss_fn(y_train, v_train)\n",
    "            train_risk.append(CE_train.item())\n",
    "\n",
    "            # then we evaluate the test risk\n",
    "            y_test = model.forward(X_test)\n",
    "            CE_test = loss_fn(y_test, v_test)\n",
    "            test_risk.append(CE_test.item())\n",
    "        return train_risk, test_risk"
   ]
  },
  {
   "cell_type": "markdown",
   "id": "c3cf7430",
   "metadata": {},
   "source": [
    "We can now try training our model by passing the model to the training loop. Complete the following code to train the model and plot the learning curves."
   ]
  },
  {
   "cell_type": "code",
   "execution_count": null,
   "id": "9dfc551f",
   "metadata": {},
   "outputs": [
    {
     "name": "stderr",
     "output_type": "stream",
     "text": [
      "training loop: 100%|██████████| 500/500 [00:51<00:00,  9.67epoch/s]\n"
     ]
    },
    {
     "name": "stdout",
     "output_type": "stream",
     "text": [
      "[0.5501232743263245, 0.4034538269042969, 0.32551315426826477, 0.2874416708946228, 0.2678128778934479, 0.25601670145988464, 0.2475147545337677, 0.2406611144542694, 0.23477855324745178, 0.2295343428850174] [0.5444598197937012, 0.38936322927474976, 0.3077414631843567, 0.2669040560722351, 0.24492387473583221, 0.2314617931842804, 0.2219138741493225, 0.21451078355312347, 0.2083945870399475, 0.20304547250270844]\n"
     ]
    },
    {
     "data": {
      "image/png": "[encoded data removed]",
      "text/plain": [
       "<Figure size 1000x500 with 1 Axes>"
      ]
     },
     "metadata": {},
     "output_type": "display_data"
    }
   ],
   "source": [
    "myModel = myClassifier()\n",
    "dataset = DataSets.make_classification(n_samples = 10000\n",
    "                                       , n_features = 20\n",
    "                                       , n_informative=5\n",
    "                                       , n_redundant=15\n",
    "                                       , random_state=1)\n",
    "X, v = dataset\n",
    "v = v.reshape(-1,1)\n",
    "train_risk, test_risk = training_loop(myModel,X,v)\n",
    "plt.figure(figsize=(10, 5))\n",
    "plt.plot(train_risk, label='Training Risk')\n",
    "plt.plot(test_risk, label='Test Risk')\n",
    "plt.xlabel('Epoch')\n",
    "plt.ylabel('Risk')\n",
    "plt.legend()\n",
    "plt.show()"
   ]
  },
  {
   "cell_type": "code",
   "execution_count": 143,
   "id": "97c1ada7",
   "metadata": {},
   "outputs": [
    {
     "name": "stdout",
     "output_type": "stream",
     "text": [
      "0.10211879760026932 0.10543878376483917\n"
     ]
    }
   ],
   "source": [
    "print(train_risk[-1], test_risk[-1])"
   ]
  },
  {
   "cell_type": "markdown",
   "id": "9f3471ba",
   "metadata": {},
   "source": [
    "## Programming Question 2: MNIST Dataset\n",
    "We play around a bit with the datasets in PyTorch."
   ]
  },
  {
   "cell_type": "code",
   "execution_count": 1,
   "id": "3fbb1155",
   "metadata": {},
   "outputs": [
    {
     "name": "stderr",
     "output_type": "stream",
     "text": [
      "/home/bigwhoman/.local/lib/python3.10/site-packages/torch/utils/_pytree.py:185: FutureWarning: optree is installed but the version is too old to support PyTorch Dynamo in C++ pytree. C++ pytree support is disabled. Please consider upgrading optree using `python3 -m pip install --upgrade 'optree>=0.13.0'`.\n",
      "  warnings.warn(\n"
     ]
    }
   ],
   "source": [
    "import torch\n",
    "import torchvision.datasets as DS\n",
    "import torchvision.transforms as transform"
   ]
  },
  {
   "cell_type": "markdown",
   "id": "939178a2",
   "metadata": {},
   "source": [
    "Import the MNIST dataset by running the code below. "
   ]
  },
  {
   "cell_type": "code",
   "execution_count": 31,
   "id": "6b12c0f8",
   "metadata": {},
   "outputs": [
    {
     "name": "stdout",
     "output_type": "stream",
     "text": [
      "60000\n",
      "(tensor([[[0.0000, 0.0000, 0.0000, 0.0000, 0.0000, 0.0000, 0.0000, 0.0000,\n",
      "          0.0000, 0.0000, 0.0000, 0.0000, 0.0000, 0.0000, 0.0000, 0.0000,\n",
      "          0.0000, 0.0000, 0.0000, 0.0000, 0.0000, 0.0000, 0.0000, 0.0000,\n",
      "          0.0000, 0.0000, 0.0000, 0.0000],\n",
      "         [0.0000, 0.0000, 0.0000, 0.0000, 0.0000, 0.0000, 0.0000, 0.0000,\n",
      "          0.0000, 0.0000, 0.0000, 0.0000, 0.0000, 0.0000, 0.0000, 0.0000,\n",
      "          0.0000, 0.0000, 0.0000, 0.0000, 0.0000, 0.0000, 0.0000, 0.0000,\n",
      "          0.0000, 0.0000, 0.0000, 0.0000],\n",
      "         [0.0000, 0.0000, 0.0000, 0.0000, 0.0000, 0.0000, 0.0000, 0.0000,\n",
      "          0.0000, 0.0000, 0.0000, 0.0000, 0.0000, 0.0000, 0.0000, 0.0000,\n",
      "          0.0000, 0.0000, 0.0000, 0.0000, 0.0000, 0.0000, 0.0000, 0.0000,\n",
      "          0.0000, 0.0000, 0.0000, 0.0000],\n",
      "         [0.0000, 0.0000, 0.0000, 0.0000, 0.0000, 0.0000, 0.0000, 0.0000,\n",
      "          0.0000, 0.0000, 0.0000, 0.0000, 0.0000, 0.0000, 0.0000, 0.0000,\n",
      "          0.0000, 0.0000, 0.0000, 0.0000, 0.0000, 0.0000, 0.0000, 0.0000,\n",
      "          0.0000, 0.0000, 0.0000, 0.0000],\n",
      "         [0.0000, 0.0000, 0.0000, 0.0000, 0.0000, 0.0000, 0.0000, 0.0000,\n",
      "          0.0000, 0.0000, 0.0000, 0.0000, 0.0000, 0.0000, 0.0000, 0.0000,\n",
      "          0.0000, 0.0000, 0.0000, 0.0000, 0.0000, 0.0000, 0.0000, 0.0000,\n",
      "          0.0000, 0.0000, 0.0000, 0.0000],\n",
      "         [0.0000, 0.0000, 0.0000, 0.0000, 0.0000, 0.0000, 0.0000, 0.0000,\n",
      "          0.0000, 0.0000, 0.0000, 0.0000, 0.0118, 0.0706, 0.0706, 0.0706,\n",
      "          0.4941, 0.5333, 0.6863, 0.1020, 0.6510, 1.0000, 0.9686, 0.4980,\n",
      "          0.0000, 0.0000, 0.0000, 0.0000],\n",
      "         [0.0000, 0.0000, 0.0000, 0.0000, 0.0000, 0.0000, 0.0000, 0.0000,\n",
      "          0.1176, 0.1412, 0.3686, 0.6039, 0.6667, 0.9922, 0.9922, 0.9922,\n",
      "          0.9922, 0.9922, 0.8824, 0.6745, 0.9922, 0.9490, 0.7647, 0.2510,\n",
      "          0.0000, 0.0000, 0.0000, 0.0000],\n",
      "         [0.0000, 0.0000, 0.0000, 0.0000, 0.0000, 0.0000, 0.0000, 0.1922,\n",
      "          0.9333, 0.9922, 0.9922, 0.9922, 0.9922, 0.9922, 0.9922, 0.9922,\n",
      "          0.9922, 0.9843, 0.3647, 0.3216, 0.3216, 0.2196, 0.1529, 0.0000,\n",
      "          0.0000, 0.0000, 0.0000, 0.0000],\n",
      "         [0.0000, 0.0000, 0.0000, 0.0000, 0.0000, 0.0000, 0.0000, 0.0706,\n",
      "          0.8588, 0.9922, 0.9922, 0.9922, 0.9922, 0.9922, 0.7765, 0.7137,\n",
      "          0.9686, 0.9451, 0.0000, 0.0000, 0.0000, 0.0000, 0.0000, 0.0000,\n",
      "          0.0000, 0.0000, 0.0000, 0.0000],\n",
      "         [0.0000, 0.0000, 0.0000, 0.0000, 0.0000, 0.0000, 0.0000, 0.0000,\n",
      "          0.3137, 0.6118, 0.4196, 0.9922, 0.9922, 0.8039, 0.0431, 0.0000,\n",
      "          0.1686, 0.6039, 0.0000, 0.0000, 0.0000, 0.0000, 0.0000, 0.0000,\n",
      "          0.0000, 0.0000, 0.0000, 0.0000],\n",
      "         [0.0000, 0.0000, 0.0000, 0.0000, 0.0000, 0.0000, 0.0000, 0.0000,\n",
      "          0.0000, 0.0549, 0.0039, 0.6039, 0.9922, 0.3529, 0.0000, 0.0000,\n",
      "          0.0000, 0.0000, 0.0000, 0.0000, 0.0000, 0.0000, 0.0000, 0.0000,\n",
      "          0.0000, 0.0000, 0.0000, 0.0000],\n",
      "         [0.0000, 0.0000, 0.0000, 0.0000, 0.0000, 0.0000, 0.0000, 0.0000,\n",
      "          0.0000, 0.0000, 0.0000, 0.5451, 0.9922, 0.7451, 0.0078, 0.0000,\n",
      "          0.0000, 0.0000, 0.0000, 0.0000, 0.0000, 0.0000, 0.0000, 0.0000,\n",
      "          0.0000, 0.0000, 0.0000, 0.0000],\n",
      "         [0.0000, 0.0000, 0.0000, 0.0000, 0.0000, 0.0000, 0.0000, 0.0000,\n",
      "          0.0000, 0.0000, 0.0000, 0.0431, 0.7451, 0.9922, 0.2745, 0.0000,\n",
      "          0.0000, 0.0000, 0.0000, 0.0000, 0.0000, 0.0000, 0.0000, 0.0000,\n",
      "          0.0000, 0.0000, 0.0000, 0.0000],\n",
      "         [0.0000, 0.0000, 0.0000, 0.0000, 0.0000, 0.0000, 0.0000, 0.0000,\n",
      "          0.0000, 0.0000, 0.0000, 0.0000, 0.1373, 0.9451, 0.8824, 0.6275,\n",
      "          0.4235, 0.0039, 0.0000, 0.0000, 0.0000, 0.0000, 0.0000, 0.0000,\n",
      "          0.0000, 0.0000, 0.0000, 0.0000],\n",
      "         [0.0000, 0.0000, 0.0000, 0.0000, 0.0000, 0.0000, 0.0000, 0.0000,\n",
      "          0.0000, 0.0000, 0.0000, 0.0000, 0.0000, 0.3176, 0.9412, 0.9922,\n",
      "          0.9922, 0.4667, 0.0980, 0.0000, 0.0000, 0.0000, 0.0000, 0.0000,\n",
      "          0.0000, 0.0000, 0.0000, 0.0000],\n",
      "         [0.0000, 0.0000, 0.0000, 0.0000, 0.0000, 0.0000, 0.0000, 0.0000,\n",
      "          0.0000, 0.0000, 0.0000, 0.0000, 0.0000, 0.0000, 0.1765, 0.7294,\n",
      "          0.9922, 0.9922, 0.5882, 0.1059, 0.0000, 0.0000, 0.0000, 0.0000,\n",
      "          0.0000, 0.0000, 0.0000, 0.0000],\n",
      "         [0.0000, 0.0000, 0.0000, 0.0000, 0.0000, 0.0000, 0.0000, 0.0000,\n",
      "          0.0000, 0.0000, 0.0000, 0.0000, 0.0000, 0.0000, 0.0000, 0.0627,\n",
      "          0.3647, 0.9882, 0.9922, 0.7333, 0.0000, 0.0000, 0.0000, 0.0000,\n",
      "          0.0000, 0.0000, 0.0000, 0.0000],\n",
      "         [0.0000, 0.0000, 0.0000, 0.0000, 0.0000, 0.0000, 0.0000, 0.0000,\n",
      "          0.0000, 0.0000, 0.0000, 0.0000, 0.0000, 0.0000, 0.0000, 0.0000,\n",
      "          0.0000, 0.9765, 0.9922, 0.9765, 0.2510, 0.0000, 0.0000, 0.0000,\n",
      "          0.0000, 0.0000, 0.0000, 0.0000],\n",
      "         [0.0000, 0.0000, 0.0000, 0.0000, 0.0000, 0.0000, 0.0000, 0.0000,\n",
      "          0.0000, 0.0000, 0.0000, 0.0000, 0.0000, 0.0000, 0.1804, 0.5098,\n",
      "          0.7176, 0.9922, 0.9922, 0.8118, 0.0078, 0.0000, 0.0000, 0.0000,\n",
      "          0.0000, 0.0000, 0.0000, 0.0000],\n",
      "         [0.0000, 0.0000, 0.0000, 0.0000, 0.0000, 0.0000, 0.0000, 0.0000,\n",
      "          0.0000, 0.0000, 0.0000, 0.0000, 0.1529, 0.5804, 0.8980, 0.9922,\n",
      "          0.9922, 0.9922, 0.9804, 0.7137, 0.0000, 0.0000, 0.0000, 0.0000,\n",
      "          0.0000, 0.0000, 0.0000, 0.0000],\n",
      "         [0.0000, 0.0000, 0.0000, 0.0000, 0.0000, 0.0000, 0.0000, 0.0000,\n",
      "          0.0000, 0.0000, 0.0941, 0.4471, 0.8667, 0.9922, 0.9922, 0.9922,\n",
      "          0.9922, 0.7882, 0.3059, 0.0000, 0.0000, 0.0000, 0.0000, 0.0000,\n",
      "          0.0000, 0.0000, 0.0000, 0.0000],\n",
      "         [0.0000, 0.0000, 0.0000, 0.0000, 0.0000, 0.0000, 0.0000, 0.0000,\n",
      "          0.0902, 0.2588, 0.8353, 0.9922, 0.9922, 0.9922, 0.9922, 0.7765,\n",
      "          0.3176, 0.0078, 0.0000, 0.0000, 0.0000, 0.0000, 0.0000, 0.0000,\n",
      "          0.0000, 0.0000, 0.0000, 0.0000],\n",
      "         [0.0000, 0.0000, 0.0000, 0.0000, 0.0000, 0.0000, 0.0706, 0.6706,\n",
      "          0.8588, 0.9922, 0.9922, 0.9922, 0.9922, 0.7647, 0.3137, 0.0353,\n",
      "          0.0000, 0.0000, 0.0000, 0.0000, 0.0000, 0.0000, 0.0000, 0.0000,\n",
      "          0.0000, 0.0000, 0.0000, 0.0000],\n",
      "         [0.0000, 0.0000, 0.0000, 0.0000, 0.2157, 0.6745, 0.8863, 0.9922,\n",
      "          0.9922, 0.9922, 0.9922, 0.9569, 0.5216, 0.0431, 0.0000, 0.0000,\n",
      "          0.0000, 0.0000, 0.0000, 0.0000, 0.0000, 0.0000, 0.0000, 0.0000,\n",
      "          0.0000, 0.0000, 0.0000, 0.0000],\n",
      "         [0.0000, 0.0000, 0.0000, 0.0000, 0.5333, 0.9922, 0.9922, 0.9922,\n",
      "          0.8314, 0.5294, 0.5176, 0.0627, 0.0000, 0.0000, 0.0000, 0.0000,\n",
      "          0.0000, 0.0000, 0.0000, 0.0000, 0.0000, 0.0000, 0.0000, 0.0000,\n",
      "          0.0000, 0.0000, 0.0000, 0.0000],\n",
      "         [0.0000, 0.0000, 0.0000, 0.0000, 0.0000, 0.0000, 0.0000, 0.0000,\n",
      "          0.0000, 0.0000, 0.0000, 0.0000, 0.0000, 0.0000, 0.0000, 0.0000,\n",
      "          0.0000, 0.0000, 0.0000, 0.0000, 0.0000, 0.0000, 0.0000, 0.0000,\n",
      "          0.0000, 0.0000, 0.0000, 0.0000],\n",
      "         [0.0000, 0.0000, 0.0000, 0.0000, 0.0000, 0.0000, 0.0000, 0.0000,\n",
      "          0.0000, 0.0000, 0.0000, 0.0000, 0.0000, 0.0000, 0.0000, 0.0000,\n",
      "          0.0000, 0.0000, 0.0000, 0.0000, 0.0000, 0.0000, 0.0000, 0.0000,\n",
      "          0.0000, 0.0000, 0.0000, 0.0000],\n",
      "         [0.0000, 0.0000, 0.0000, 0.0000, 0.0000, 0.0000, 0.0000, 0.0000,\n",
      "          0.0000, 0.0000, 0.0000, 0.0000, 0.0000, 0.0000, 0.0000, 0.0000,\n",
      "          0.0000, 0.0000, 0.0000, 0.0000, 0.0000, 0.0000, 0.0000, 0.0000,\n",
      "          0.0000, 0.0000, 0.0000, 0.0000]]]), 5)\n",
      "Dimension of pixel vectors(X) : torch.Size([60000, 784]) -- Dimension of labels : torch.Size([60000, 1])\n"
     ]
    }
   ],
   "source": [
    "mnist = DS.MNIST('./data',train=True,transform=transform.ToTensor(),download=True)\n",
    "\n",
    "X = mnist.data.float()\n",
    "v = mnist.targets\n",
    "v = v.reshape(-1,1)\n",
    "print(len(mnist))\n",
    "X = X.view(X.size(0), -1)\n",
    "\n",
    "\n",
    "print(mnist[0])\n",
    "\n",
    "print(f\"Dimension of pixel vectors(X) : {X.shape} -- Dimension of labels : {v.shape}\")"
   ]
  },
  {
   "cell_type": "markdown",
   "id": "ad8cc082",
   "metadata": {},
   "source": [
    "We now build a function `myBatcher()` which gets the batch size as the input and returns a list containing multiple batches. "
   ]
  },
  {
   "cell_type": "code",
   "execution_count": 32,
   "id": "9e835629",
   "metadata": {},
   "outputs": [],
   "source": [
    "def myBatcher(batch_size):\n",
    "    batch_list = []\n",
    "    num_batches = int(np.ceil(len(X)/batch_size))\n",
    "    \n",
    "    for j in range(num_batches):\n",
    "        batch_x = torch.zeros(batch_size,784)\n",
    "        batch_v = torch.zeros(batch_size)\n",
    "        for i in range(batch_size):\n",
    "            batch_x[i] = X[j * batch_size + i]\n",
    "            batch_v[i] = v[j * batch_size + i]\n",
    "            \n",
    "        batch = (batch_x,batch_v)\n",
    "        batch_list.append(batch)\n",
    "    return batch_list"
   ]
  },
  {
   "cell_type": "markdown",
   "id": "a94dc68b",
   "metadata": {},
   "source": [
    "Let's try the implemented function"
   ]
  },
  {
   "cell_type": "code",
   "execution_count": 34,
   "id": "e24d2fce",
   "metadata": {},
   "outputs": [
    {
     "name": "stdout",
     "output_type": "stream",
     "text": [
      "Labels of the first mini-batch : tensor([5., 0., 4., 1., 9., 2., 1., 3., 1., 4., 3., 5., 3., 6., 1., 7., 2., 8.,\n",
      "        6., 9., 4., 0., 9., 1., 1., 2., 4., 3., 2., 7., 3., 8., 6., 9., 0., 5.,\n",
      "        6., 0., 7., 6., 1., 8., 7., 9., 3., 9., 8., 5., 9., 3., 3., 0., 7., 4.,\n",
      "        9., 8., 0., 9., 4., 1., 4., 4., 6., 0., 4., 5., 6., 1., 0., 0., 1., 7.,\n",
      "        1., 6., 3., 0., 2., 1., 1., 7., 9., 0., 2., 6., 7., 8., 3., 9., 0., 4.,\n",
      "        6., 7., 4., 6., 8., 0., 7., 8., 3., 1.])\n",
      "Labels of the third mini-batch : tensor([1., 1., 8., 3., 6., 1., 0., 3., 1., 0., 0., 1., 7., 2., 7., 3., 0., 4.,\n",
      "        6., 5., 2., 6., 4., 7., 1., 8., 9., 9., 3., 0., 7., 1., 0., 2., 0., 3.,\n",
      "        5., 4., 6., 5., 8., 6., 3., 7., 5., 8., 0., 9., 1., 0., 3., 1., 2., 2.,\n",
      "        3., 3., 6., 4., 7., 5., 0., 6., 2., 7., 9., 8., 5., 9., 2., 1., 1., 4.,\n",
      "        4., 5., 6., 4., 1., 2., 5., 3., 9., 3., 9., 0., 5., 9., 6., 5., 7., 4.,\n",
      "        1., 3., 4., 0., 4., 8., 0., 4., 3., 6.])\n"
     ]
    }
   ],
   "source": [
    "batch_list = myBatcher(100)\n",
    "print(f\"Labels of the first mini-batch : {batch_list[0][1]}\")\n",
    "print(f\"Labels of the third mini-batch : {batch_list[2][1]}\")"
   ]
  },
  {
   "cell_type": "markdown",
   "id": "5a7f1c8f",
   "metadata": {},
   "source": [
    "## Fidgeting Around\n",
    "\n",
    "In this part I will try to see what happens if I do the training on my mnist dataset using the previous programming questions from part1 and part2."
   ]
  }
 ],
 "metadata": {
  "kernelspec": {
   "display_name": "Python 3",
   "language": "python",
   "name": "python3"
  },
  "language_info": {
   "codemirror_mode": {
    "name": "ipython",
    "version": 3
   },
   "file_extension": ".py",
   "mimetype": "text/x-python",
   "name": "python",
   "nbconvert_exporter": "python",
   "pygments_lexer": "ipython3",
   "version": "3.10.12"
  }
 },
 "nbformat": 4,
 "nbformat_minor": 5
}
